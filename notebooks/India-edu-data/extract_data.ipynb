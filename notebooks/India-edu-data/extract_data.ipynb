{
 "cells": [
  {
   "cell_type": "code",
   "execution_count": 12,
   "metadata": {},
   "outputs": [],
   "source": [
    "data_files = [\"2021.csv\",\"2019.csv\",\"2018.csv\",\"2017.csv\",\"2015.csv\",\"2011.csv\",\"2010.csv\",\"2007.csv\",\"2006.csv\",\"2001.csv\",\"2000.csv\",\"1999.csv\",\"1998.csv\",\"1996.csv\",\"1992.csv\"]\n",
    "folder = \"raw-dataset/\""
   ]
  },
  {
   "cell_type": "code",
   "execution_count": 38,
   "metadata": {},
   "outputs": [],
   "source": [
    "import numpy as np\n",
    "import pandas as pd\n",
    "\n",
    "\n",
    "# Initialize empty dictionaries to store data for each category\n",
    "col_values = [\"primary-total\",\"lower-secondary-total\",\"upper-secondary-total\",\"primary-boys\",\"primary-girls\",\"lower-secondary-boys\",\"lower-secondary-girls\",\"upper-secondary-boys\",\"upper-secondary-girls\"]\n",
    "\n",
    "def gen_data_set(col_value, states):\n",
    "    pass\n",
    "    tmp_data = {}\n",
    "    cols = ['state']\n",
    "    # Process each CSV file\n",
    "    for file in data_files:\n",
    "        df = pd.read_csv(folder+file)\n",
    "        year = int(file.split(\".\")[0])\n",
    "        cols.append(str(year))\n",
    "        for state_name in states:\n",
    "        # for i,row in df.iterrows():\n",
    "            row=df[df['state']==state_name]\n",
    "            \n",
    "            if state_name not in tmp_data:\n",
    "                tmp_data[state_name] = []\n",
    "            try:\n",
    "                tmp_data[state_name].append(row[col_value].values[0])\n",
    "            except:\n",
    "                tmp_data[state_name].append(np.nan)\n",
    "\n",
    "    all_values = []\n",
    "    for state,values in tmp_data.items():\n",
    "        tmp_data[state].insert(0,state)\n",
    "        all_values.append(tmp_data[state])\n",
    "\n",
    "    new_df = pd.DataFrame(all_values,columns=cols)\n",
    "    return new_df\n",
    "            \n",
    "    \n"
   ]
  },
  {
   "cell_type": "code",
   "execution_count": 39,
   "metadata": {},
   "outputs": [],
   "source": [
    "result_folder = \"extracted-dataset/\"\n",
    "t_df = pd.read_csv(folder+data_files[0])\n",
    "states = list(t_df[\"state\"].unique())\n",
    "for col_value in col_values:\n",
    "    df = gen_data_set(col_value,states)\n",
    "    df.to_csv(result_folder+col_value+\".csv\",index=False)"
   ]
  }
 ],
 "metadata": {
  "kernelspec": {
   "display_name": "Python 3",
   "language": "python",
   "name": "python3"
  },
  "language_info": {
   "codemirror_mode": {
    "name": "ipython",
    "version": 3
   },
   "file_extension": ".py",
   "mimetype": "text/x-python",
   "name": "python",
   "nbconvert_exporter": "python",
   "pygments_lexer": "ipython3",
   "version": "3.10.9"
  }
 },
 "nbformat": 4,
 "nbformat_minor": 2
}
